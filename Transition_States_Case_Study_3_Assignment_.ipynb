{
  "nbformat": 4,
  "nbformat_minor": 0,
  "metadata": {
    "colab": {
      "provenance": [],
      "authorship_tag": "ABX9TyM396eAkkHw4O395N++w9wZ",
      "include_colab_link": true
    },
    "kernelspec": {
      "name": "python3",
      "display_name": "Python 3"
    },
    "language_info": {
      "name": "python"
    }
  },
  "cells": [
    {
      "cell_type": "markdown",
      "metadata": {
        "id": "view-in-github",
        "colab_type": "text"
      },
      "source": [
        "<a href=\"https://colab.research.google.com/github/NinjaBlac/business-analytics-assignments/blob/main/Transition_States_Case_Study_3_Assignment_.ipynb\" target=\"_parent\"><img src=\"https://colab.research.google.com/assets/colab-badge.svg\" alt=\"Open In Colab\"/></a>"
      ]
    },
    {
      "cell_type": "markdown",
      "source": [
        "# Question One"
      ],
      "metadata": {
        "id": "CXGC6mDP_oNk"
      }
    },
    {
      "cell_type": "markdown",
      "source": [
        "Student Attendance Transition Matrix -\n",
        "\n",
        "                Present    Late    Absent\n",
        "\n",
        "    Present     20/27      5/27      2/27\n",
        "\n",
        "    Late        8/21       10/21     3/21\n",
        "\n",
        "    Absent      5/21       1/21      15/21"
      ],
      "metadata": {
        "id": "7_0MYMg1GECg"
      }
    },
    {
      "cell_type": "code",
      "source": [
        "import numpy as np\n",
        "\n",
        "# Define the transition matrix\n",
        "transition_matrix = np.array([\n",
        "    [20/27, 5/27, 2/27],  # Present\n",
        "    [8/21, 10/21, 3/21],  # Late\n",
        "    [5/21, 1/21, 15/21]   # Absent\n",
        "])\n",
        "\n",
        "print(transition_matrix)"
      ],
      "metadata": {
        "colab": {
          "base_uri": "https://localhost:8080/"
        },
        "id": "38Q3RDm9IcOf",
        "outputId": "9f207fef-d87d-4d58-a6e5-ec51ad597b24"
      },
      "execution_count": null,
      "outputs": [
        {
          "output_type": "stream",
          "name": "stdout",
          "text": [
            "[[0.74074074 0.18518519 0.07407407]\n",
            " [0.38095238 0.47619048 0.14285714]\n",
            " [0.23809524 0.04761905 0.71428571]]\n"
          ]
        }
      ]
    },
    {
      "cell_type": "code",
      "source": [
        "current_state = np.array([1, 0, 0]) #Present\n",
        "outcomes = [\"Present\", \"Late\", \"Absent\"]"
      ],
      "metadata": {
        "id": "2oXpqScuXNyw"
      },
      "execution_count": null,
      "outputs": []
    },
    {
      "cell_type": "code",
      "source": [
        "print(\"Current state:\", outcomes[np.argmax(current_state)])"
      ],
      "metadata": {
        "colab": {
          "base_uri": "https://localhost:8080/"
        },
        "id": "Yq0u6Ox4Bb_f",
        "outputId": "ae262dfa-02e8-42ce-a370-2f6656101482"
      },
      "execution_count": null,
      "outputs": [
        {
          "output_type": "stream",
          "name": "stdout",
          "text": [
            "Current state: Present\n"
          ]
        }
      ]
    },
    {
      "cell_type": "markdown",
      "source": [
        "## Probability of 9 Pairs"
      ],
      "metadata": {
        "id": "1dok0FGuXT4K"
      }
    },
    {
      "cell_type": "code",
      "source": [
        "\n",
        "# Define the state pairs to calculate probabilities for\n",
        "state_pairs = [\n",
        "    (\"Present\", \"Present\"),\n",
        "    (\"Present\", \"Late\"),\n",
        "    (\"Present\", \"Absent\"),\n",
        "    (\"Late\", \"Present\"),\n",
        "    (\"Late\", \"Late\"),\n",
        "    (\"Late\", \"Absent\"),\n",
        "    (\"Absent\", \"Present\"),\n",
        "    (\"Absent\", \"Late\"),\n",
        "    (\"Absent\", \"Absent\")\n",
        "]\n",
        "\n",
        "# Calculate and print the probabilities\n",
        "for pair in state_pairs:\n",
        "    from_state = pair[0]\n",
        "    to_state = pair[1]\n",
        "    from_index = outcomes.index(from_state)\n",
        "    to_index = outcomes.index(to_state)\n",
        "    probability = transition_matrix[from_index, to_index]\n",
        "    print(f\"Probability of transitioning from {from_state} to {to_state}: {probability}\")\n"
      ],
      "metadata": {
        "colab": {
          "base_uri": "https://localhost:8080/"
        },
        "id": "q-ns7r8HsQyD",
        "outputId": "6991bc0a-d9c5-4de5-ac05-d8ea581cf278"
      },
      "execution_count": null,
      "outputs": [
        {
          "output_type": "stream",
          "name": "stdout",
          "text": [
            "Probability of transitioning from Present to Present: 0.7407407407407407\n",
            "Probability of transitioning from Present to Late: 0.18518518518518517\n",
            "Probability of transitioning from Present to Absent: 0.07407407407407407\n",
            "Probability of transitioning from Late to Present: 0.38095238095238093\n",
            "Probability of transitioning from Late to Late: 0.47619047619047616\n",
            "Probability of transitioning from Late to Absent: 0.14285714285714285\n",
            "Probability of transitioning from Absent to Present: 0.23809523809523808\n",
            "Probability of transitioning from Absent to Late: 0.047619047619047616\n",
            "Probability of transitioning from Absent to Absent: 0.7142857142857143\n"
          ]
        }
      ]
    },
    {
      "cell_type": "markdown",
      "source": [
        "# Question 2"
      ],
      "metadata": {
        "id": "8Lpz6LEL_soY"
      }
    },
    {
      "cell_type": "markdown",
      "source": [
        "## Probability of Late to Absent"
      ],
      "metadata": {
        "id": "n3JAmQsTW7Zi"
      }
    },
    {
      "cell_type": "code",
      "source": [
        "# Probability of transitioning from late to absent (P_LA)\n",
        "P_LA = transition_matrix[1, 2]\n",
        "\n",
        "print(f\"Probability of transitioning from late to absent (P_LA): {P_LA}\")\n"
      ],
      "metadata": {
        "colab": {
          "base_uri": "https://localhost:8080/"
        },
        "id": "w-b98sON_D4v",
        "outputId": "2e1dcaf2-71a2-4895-bf5a-0dc8a9c0a21f"
      },
      "execution_count": null,
      "outputs": [
        {
          "output_type": "stream",
          "name": "stdout",
          "text": [
            "Probability of transitioning from late to absent (P_LA): 0.14285714285714285\n"
          ]
        }
      ]
    },
    {
      "cell_type": "markdown",
      "source": [
        "## Probability that it will be Present The Next Day (Present to Present)"
      ],
      "metadata": {
        "id": "iCSh16fAXjI7"
      }
    },
    {
      "cell_type": "code",
      "source": [
        "current = np.array([1, 0, 0]) #Present\n",
        "\n",
        "# Compute the state distribution after one day\n",
        "state_distribution_after_one_day = np.dot(current_state, np.linalg.matrix_power(transition_matrix, 1))\n",
        "\n",
        "# Extract the probability of being in the \"present\" state after 1 day\n",
        "# Assuming \"present\" corresponds to the first state (index 0)\n",
        "prob_present_after_one_day = state_distribution_after_one_day[0]\n",
        "\n",
        "print(\"Probability of being in the 'present' state after one day:\", prob_present_after_one_day)\n"
      ],
      "metadata": {
        "colab": {
          "base_uri": "https://localhost:8080/"
        },
        "id": "SxDQac07GnkS",
        "outputId": "851c6a3d-9c20-4d81-8eed-1c9651233165"
      },
      "execution_count": null,
      "outputs": [
        {
          "output_type": "stream",
          "name": "stdout",
          "text": [
            "Probability of being in the 'present' state after one day: 0.7407407407407407\n"
          ]
        }
      ]
    },
    {
      "cell_type": "markdown",
      "source": [
        "## Probability of Being Absent After 21 Days (Late to Absent)"
      ],
      "metadata": {
        "id": "77BdZuvIXwNl"
      }
    },
    {
      "cell_type": "code",
      "source": [
        "current_state = np.array([0, 1, 0]) #Late\n",
        "# Compute the state distribution after 21 days\n",
        "state_distribution_after_twenty_one_days = np.dot(current_state, np.linalg.matrix_power(transition_matrix, 21))\n",
        "\n",
        "# Extract the probability of being in the \"absent\" state after 21 days\n",
        "# Assuming \"absent\" corresponds to the third state (index 2)\n",
        "prob_absent_after_twenty_one_days = state_distribution_after_twenty_one_days[2]\n",
        "\n",
        "print(\"Probability of being in the 'absent' state after twenty one days:\", prob_absent_after_twenty_one_days)"
      ],
      "metadata": {
        "colab": {
          "base_uri": "https://localhost:8080/"
        },
        "id": "4OyIrrNgKbnI",
        "outputId": "40fef69e-688d-43d4-9bab-cb38988e5955"
      },
      "execution_count": null,
      "outputs": [
        {
          "output_type": "stream",
          "name": "stdout",
          "text": [
            "Probability of being in the 'absent' state after twenty one days: 0.24666396442273023\n"
          ]
        }
      ]
    },
    {
      "cell_type": "markdown",
      "source": [
        "## Probability of Being Present After 3 Days (Late to Present)"
      ],
      "metadata": {
        "id": "FfgrPmOvo1CG"
      }
    },
    {
      "cell_type": "code",
      "source": [
        "current_state = np.array([0, 1, 0]) #Late\n",
        "\n",
        "# Compute the state distribution after 3 days\n",
        "state_distribution_after_three_days = np.dot(current_state, np.linalg.matrix_power(transition_matrix, 3))\n",
        "\n",
        "# Extract the probability of being in the \"absent\" state after 3 days\n",
        "# Assuming \"present\" corresponds to the third state (index 2)\n",
        "prob_present_after_three_days = state_distribution_after_three_days[0]\n",
        "\n",
        "print(\"Probability of being in the 'present' state after three days:\", prob_present_after_three_days)"
      ],
      "metadata": {
        "colab": {
          "base_uri": "https://localhost:8080/"
        },
        "id": "OZHV_y0EoSv6",
        "outputId": "47784666-44e4-41bd-ba3f-f851b015ddf5"
      },
      "execution_count": null,
      "outputs": [
        {
          "output_type": "stream",
          "name": "stdout",
          "text": [
            "Probability of being in the 'present' state after three days: 0.5316587148282789\n"
          ]
        }
      ]
    },
    {
      "cell_type": "markdown",
      "source": [
        "## Probability of Being Present After 10 Days ( Absent to Present)"
      ],
      "metadata": {
        "id": "kSkLZ_XDqaKQ"
      }
    },
    {
      "cell_type": "code",
      "source": [
        "current_state = np.array([0, 0, 1]) #Absent\n",
        "\n",
        "# Compute the state distribution after 10 days\n",
        "state_distribution_after_ten_days = np.dot(current_state, np.linalg.matrix_power(transition_matrix, 10))\n",
        "\n",
        "# Extract the probability of being in the \"present\" state after 10 days\n",
        "# Assuming \"present\" corresponds to the third state (index 2)\n",
        "prob_present_after_ten_days = state_distribution_after_ten_days[0]\n",
        "\n",
        "print(\"Probability of being in the 'present' state after ten days:\", prob_present_after_ten_days)"
      ],
      "metadata": {
        "colab": {
          "base_uri": "https://localhost:8080/"
        },
        "id": "QX_WfCwYp9_s",
        "outputId": "fd6a8483-bf10-4fc9-b5fa-c483f4e659d8"
      },
      "execution_count": null,
      "outputs": [
        {
          "output_type": "stream",
          "name": "stdout",
          "text": [
            "Probability of being in the 'present' state after ten days: 0.5367996629548141\n"
          ]
        }
      ]
    },
    {
      "cell_type": "markdown",
      "source": [
        "# Question 3"
      ],
      "metadata": {
        "id": "l6p-1hot_v0O"
      }
    },
    {
      "cell_type": "code",
      "source": [
        "state_pairs = [ (\"Present\", \"Absent\"), (\"Absent\", \"Present\"),(\"Late\", \"Present\"),(\"Late\", \"Absent\")]"
      ],
      "metadata": {
        "id": "HryqXP7Bsmp4"
      },
      "execution_count": null,
      "outputs": []
    },
    {
      "cell_type": "markdown",
      "source": [
        "## Present to Absent"
      ],
      "metadata": {
        "id": "GicJCqLRMmxS"
      }
    },
    {
      "cell_type": "code",
      "source": [
        "# Define the initial state starting from \"Present\"\n",
        "current_state = np.array([1, 0, 0])  # Starting from \"Present\"\n",
        "\n",
        "# Define the target state index for \"Absent\"\n",
        "target_state_index = outcomes.index(\"Absent\")\n",
        "\n",
        "# Simulate the process for 27 days or until \"Absent\" is reached\n",
        "day = 1\n",
        "max_days = 27\n",
        "\n",
        "while np.argmax(current_state) != target_state_index and day <= max_days:\n",
        "    current_state = np.dot(current_state, transition_matrix)\n",
        "    print(f\"Day {day}: {outcomes[np.argmax(current_state)]}\")\n",
        "    day += 1\n",
        "\n",
        "if np.argmax(current_state) == target_state_index:\n",
        "    print(f\"Transition completed from Present to Absent in {day-1} days.\")\n",
        "else:\n",
        "    print(\"Transition to Absent did not occur within 27 days.\")"
      ],
      "metadata": {
        "colab": {
          "base_uri": "https://localhost:8080/"
        },
        "id": "gdmcwa30Mg9O",
        "outputId": "8d0d1d75-83de-4b2f-aea3-67369334e115"
      },
      "execution_count": null,
      "outputs": [
        {
          "output_type": "stream",
          "name": "stdout",
          "text": [
            "Day 1: Present\n",
            "Day 2: Present\n",
            "Day 3: Present\n",
            "Day 4: Present\n",
            "Day 5: Present\n",
            "Day 6: Present\n",
            "Day 7: Present\n",
            "Day 8: Present\n",
            "Day 9: Present\n",
            "Day 10: Present\n",
            "Day 11: Present\n",
            "Day 12: Present\n",
            "Day 13: Present\n",
            "Day 14: Present\n",
            "Day 15: Present\n",
            "Day 16: Present\n",
            "Day 17: Present\n",
            "Day 18: Present\n",
            "Day 19: Present\n",
            "Day 20: Present\n",
            "Day 21: Present\n",
            "Day 22: Present\n",
            "Day 23: Present\n",
            "Day 24: Present\n",
            "Day 25: Present\n",
            "Day 26: Present\n",
            "Day 27: Present\n",
            "Transition to Absent did not occur within 27 days.\n"
          ]
        }
      ]
    },
    {
      "cell_type": "markdown",
      "source": [
        "## Absent to Present"
      ],
      "metadata": {
        "id": "9bfz5pikMqNG"
      }
    },
    {
      "cell_type": "code",
      "source": [
        "# Define the initial state starting from \"Absent\"\n",
        "current_state = np.array([0, 0, 1])  # Starting from \"Absent\"\n",
        "\n",
        "# Define the target state index for \"Present\"\n",
        "target_state_index = outcomes.index(\"Present\")\n",
        "\n",
        "# Simulate the process for 27 days or until \"Present\" is reached\n",
        "day = 1\n",
        "max_days = 27\n",
        "\n",
        "while np.argmax(current_state) != target_state_index and day <= max_days:\n",
        "    current_state = np.dot(current_state, transition_matrix)\n",
        "    print(f\"Day {day}: {outcomes[np.argmax(current_state)]}\")\n",
        "    day += 1\n",
        "\n",
        "if np.argmax(current_state) == target_state_index:\n",
        "    print(f\"Transition completed from Absent to Present in {day-1} days.\")\n",
        "else:\n",
        "    print(\"Transition to Present did not occur within 27 days.\")"
      ],
      "metadata": {
        "colab": {
          "base_uri": "https://localhost:8080/"
        },
        "id": "ifjj4IQvMKVn",
        "outputId": "f1ffa1af-8051-451a-e7ad-bfcfce06a091"
      },
      "execution_count": null,
      "outputs": [
        {
          "output_type": "stream",
          "name": "stdout",
          "text": [
            "Day 1: Absent\n",
            "Day 2: Absent\n",
            "Day 3: Present\n",
            "Transition completed from Absent to Present in 3 days.\n"
          ]
        }
      ]
    },
    {
      "cell_type": "markdown",
      "source": [
        "## Late to Present"
      ],
      "metadata": {
        "id": "Azw40Iv2Msyt"
      }
    },
    {
      "cell_type": "code",
      "source": [
        "# Define the initial state starting from \"Late\"\n",
        "current_state = np.array([0, 1, 0])  # Starting from \"Late\"\n",
        "\n",
        "# Define the target state index for \"Present\"\n",
        "target_state_index = outcomes.index(\"Present\")\n",
        "\n",
        "# Simulate the process for 27 days or until \"Present\" is reached\n",
        "day = 1\n",
        "max_days = 27\n",
        "\n",
        "while np.argmax(current_state) != target_state_index and day <= max_days:\n",
        "    current_state = np.dot(current_state, transition_matrix)\n",
        "    print(f\"Day {day}: {outcomes[np.argmax(current_state)]}\")\n",
        "    day += 1\n",
        "\n",
        "if np.argmax(current_state) == target_state_index:\n",
        "    print(f\"Transition completed from Late to Present in {day-1} days.\")\n",
        "else:\n",
        "    print(\"Transition to Present did not occur within 27 days.\")"
      ],
      "metadata": {
        "colab": {
          "base_uri": "https://localhost:8080/"
        },
        "id": "h6aBKgI_J24h",
        "outputId": "8f6116e3-8b96-4bba-d0dc-18a55a045151"
      },
      "execution_count": null,
      "outputs": [
        {
          "output_type": "stream",
          "name": "stdout",
          "text": [
            "Day 1: Late\n",
            "Day 2: Present\n",
            "Transition completed from Late to Present in 2 days.\n"
          ]
        }
      ]
    },
    {
      "cell_type": "markdown",
      "source": [
        "## Late to Absent"
      ],
      "metadata": {
        "id": "hQ3JCQV_Mwmk"
      }
    },
    {
      "cell_type": "code",
      "source": [
        " #Define the initial state starting from \"Late\"\n",
        "current_state = np.array([0, 1, 0])  # Starting from \"Late\"\n",
        "\n",
        "# Perform the simulation to determine transition\n",
        "target_state_index = outcomes.index(\"Absent\")\n",
        "day = 1\n",
        "max_days = 27\n",
        "\n",
        "while np.argmax(current_state) != target_state_index and day <= max_days:\n",
        "    current_state = np.dot(current_state, transition_matrix)\n",
        "    print(f\"Day {day}: {outcomes[np.argmax(current_state)]}\")\n",
        "    day += 1\n",
        "\n",
        "if np.argmax(current_state) == target_state_index:\n",
        "    print(f\"Transition completed from Late to Absent in {day-1} days.\")\n",
        "else:\n",
        "    print(\"Transition to Absent did not occur within 27 days.\")"
      ],
      "metadata": {
        "colab": {
          "base_uri": "https://localhost:8080/"
        },
        "id": "PeZWjxl0LXaF",
        "outputId": "30e32d91-4191-4f84-d00a-338a0d57a520"
      },
      "execution_count": null,
      "outputs": [
        {
          "output_type": "stream",
          "name": "stdout",
          "text": [
            "Day 1: Late\n",
            "Day 2: Present\n",
            "Day 3: Present\n",
            "Day 4: Present\n",
            "Day 5: Present\n",
            "Day 6: Present\n",
            "Day 7: Present\n",
            "Day 8: Present\n",
            "Day 9: Present\n",
            "Day 10: Present\n",
            "Day 11: Present\n",
            "Day 12: Present\n",
            "Day 13: Present\n",
            "Day 14: Present\n",
            "Day 15: Present\n",
            "Day 16: Present\n",
            "Day 17: Present\n",
            "Day 18: Present\n",
            "Day 19: Present\n",
            "Day 20: Present\n",
            "Day 21: Present\n",
            "Day 22: Present\n",
            "Day 23: Present\n",
            "Day 24: Present\n",
            "Day 25: Present\n",
            "Day 26: Present\n",
            "Day 27: Present\n",
            "Transition to Absent did not occur within 27 days.\n"
          ]
        }
      ]
    }
  ]
}